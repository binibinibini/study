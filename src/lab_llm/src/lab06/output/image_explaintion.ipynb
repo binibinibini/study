## GPT로 이미지 설명 만들기

```python
import base64
from openai import OpenAI
from src.utils import get_openai_api_key
```
```python
 client = OpenAI(api_key = get_openai_api_key())
```

## [Lorem Picsum](https://picsum.photos) 이미지 설명 요청

